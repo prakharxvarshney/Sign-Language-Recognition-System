{
 "cells": [
  {
   "cell_type": "code",
   "execution_count": null,
   "id": "97f04912",
   "metadata": {},
   "outputs": [],
   "source": [
    "# import necessary packages\n",
    "\n",
    "import cv2\n",
    "import numpy as np\n",
    "import mediapipe as mp\n",
    "import tensorflow as tf\n",
    "from tensorflow.keras.models import load_model"
   ]
  },
  {
   "cell_type": "code",
   "execution_count": null,
   "id": "1779ed94",
   "metadata": {},
   "outputs": [],
   "source": [
    "# initialize mediapipe\n",
    "\n",
    "mpHands = mp.solutions.hands\n",
    "hands = mpHands.Hands(max_num_hands=1, min_detection_confidence=0.7)\n",
    "mpDraw = mp.solutions.drawing_utils\n",
    "\n",
    "# Load the gesture recognizer model\n",
    "\n",
    "model = load_model('mp_hand_gesture')"
   ]
  },
  {
   "cell_type": "code",
   "execution_count": null,
   "id": "8cb02c9c",
   "metadata": {},
   "outputs": [],
   "source": [
    "# Load class names\n",
    "\n",
    "f = open('gesture.names', 'r')\n",
    "classNames = f.read().split('\\n')\n",
    "f.close()\n",
    "print(classNames)"
   ]
  },
  {
   "cell_type": "code",
   "execution_count": null,
   "id": "d9fad5ce",
   "metadata": {},
   "outputs": [],
   "source": [
    "# Initialize the webcam\n",
    "\n",
    "cap = cv2.VideoCapture(0)\n",
    "\n",
    "while True:\n",
    "# Read each frame from the webcam\n",
    "\n",
    "    _, frame = cap.read()\n",
    "    \n",
    "    x, y, c = frame.shape\n",
    "    \n",
    "#Flip the frame vertically\n",
    "\n",
    "    frame = cv2.flip(frame, 1)\n",
    "    framergb = cv2.cvtColor(frame, cv2.COLOR_BGR2RGB)\n",
    "\n",
    "# Get hand landmark prediction\n",
    "\n",
    "    result = hands.process(framergb)\n",
    "    \n",
    "# print(result)\n",
    "\n",
    "    className = ''\n",
    "    \n",
    "# post process the result\n",
    "\n",
    "    if result.multi_hand_landmarks:\n",
    "        landmarks = []\n",
    "        for handslms in result.multi_hand_landmarks:\n",
    "            for lm in handslms.landmark:\n",
    "                \n",
    "                lmx = int(lm.x * x)\n",
    "                lmy = int(lm.y * y)\n",
    "                \n",
    "                \n",
    "                landmarks.append([lmx, lmy])\n",
    "                \n",
    "            mpDraw.draw_landmarks(frame, handslms, mpHands.HAND_CONNECTIONS)\n",
    "\n",
    "            \n",
    "            prediction = model.predict([landmarks])\n",
    "            \n",
    "# print(prediction)\n",
    "\n",
    "            classID = np.argmax(prediction)\n",
    "            className = classNames[classID]\n",
    "\n",
    "# show the prediction on the frame\n",
    "\n",
    "    cv2.putText(frame, className, (10, 50), cv2.FONT_HERSHEY_SIMPLEX, \n",
    "                   1, (0,0,255), 2, cv2.LINE_AA)\n",
    "\n",
    "# Show the final output\n",
    "\n",
    "    cv2.imshow(\"Output\", frame) \n",
    "\n",
    "    if cv2.waitKey(1) == ord('q'):\n",
    "        break"
   ]
  },
  {
   "cell_type": "code",
   "execution_count": null,
   "id": "f3d39f23",
   "metadata": {},
   "outputs": [],
   "source": [
    "# release the webcam and destroy all active windows\n",
    "\n",
    "cap.release()\n",
    "\n",
    "cv2.destroyAllWindows()"
   ]
  }
 ],
 "metadata": {
  "kernelspec": {
   "display_name": "Python 3 (ipykernel)",
   "language": "python",
   "name": "python3"
  },
  "language_info": {
   "codemirror_mode": {
    "name": "ipython",
    "version": 3
   },
   "file_extension": ".py",
   "mimetype": "text/x-python",
   "name": "python",
   "nbconvert_exporter": "python",
   "pygments_lexer": "ipython3",
   "version": "3.10.4"
  }
 },
 "nbformat": 4,
 "nbformat_minor": 5
}
